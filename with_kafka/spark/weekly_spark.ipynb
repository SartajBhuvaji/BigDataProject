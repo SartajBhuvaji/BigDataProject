{
 "cells": [
  {
   "cell_type": "code",
   "execution_count": 17,
   "metadata": {},
   "outputs": [
    {
     "data": {
      "text/html": [
       "\n",
       "            <div>\n",
       "                <p><b>SparkSession - in-memory</b></p>\n",
       "                \n",
       "        <div>\n",
       "            <p><b>SparkContext</b></p>\n",
       "\n",
       "            <p><a href=\"http://AlienwareM15-R2.lan:4040\">Spark UI</a></p>\n",
       "\n",
       "            <dl>\n",
       "              <dt>Version</dt>\n",
       "                <dd><code>v3.3.2</code></dd>\n",
       "              <dt>Master</dt>\n",
       "                <dd><code>local[*]</code></dd>\n",
       "              <dt>AppName</dt>\n",
       "                <dd><code>weekly_spark</code></dd>\n",
       "            </dl>\n",
       "        </div>\n",
       "        \n",
       "            </div>\n",
       "        "
      ],
      "text/plain": [
       "<pyspark.sql.session.SparkSession at 0x1b34f96baf0>"
      ]
     },
     "execution_count": 17,
     "metadata": {},
     "output_type": "execute_result"
    }
   ],
   "source": [
    "from pyspark.sql import SparkSession\n",
    "import os\n",
    "spark = SparkSession.builder.appName('weekly_spark').getOrCreate()\n",
    "spark"
   ]
  },
  {
   "cell_type": "code",
   "execution_count": 18,
   "metadata": {},
   "outputs": [],
   "source": [
    "from pyspark.sql.types import StructType, StructField, StringType, IntegerType, BooleanType, ArrayType\n",
    "from pyspark.sql.functions import length, col, count, expr\n",
    "\n",
    "reviews_schema = StructType([\n",
    "    StructField(\"App ID\", IntegerType(), True),\n",
    "    StructField(\"Review\", StringType(), True),\n",
    "    StructField(\"Voted Up\", StringType(), True)\n",
    "])"
   ]
  },
  {
   "cell_type": "code",
   "execution_count": 19,
   "metadata": {},
   "outputs": [],
   "source": [
    "WEEKLY_DATA_PATH = r'../data/weekly_data/'\n",
    "reviews_path = os.path.join(WEEKLY_DATA_PATH, 'reviews/')\n",
    "FILE_DATE = None\n",
    "\n",
    "try:\n",
    "    csv_files = [f for f in os.listdir(reviews_path) if f.endswith('.csv')]\n",
    "    if csv_files:\n",
    "        csv_file = csv_files[0]\n",
    "        csv_file_path = os.path.join(reviews_path, csv_file)\n",
    "        most_daily_played = spark.read.csv(csv_file_path, header=True, schema=reviews_schema)\n",
    "    else:\n",
    "        print(\"No CSV files found in the 'reviews_path' directory.\")\n",
    "except Exception as e:\n",
    "    print(\"An error occurred while reading the CSV file:\", e)"
   ]
  },
  {
   "cell_type": "code",
   "execution_count": 21,
   "metadata": {},
   "outputs": [],
   "source": [
    "most_daily_played = most_daily_played.na.drop(subset=[\"Review\", \"Voted Up\", \"App ID\"])\n",
    "most_daily_played = most_daily_played.filter(length(col(\"Review\")) >= 2)\n",
    "\n",
    "counted_reviews = most_daily_played.groupBy(\"App ID\").pivot(\"Voted Up\", [\"pos\", \"neg\"]).agg(count(\"*\").alias(\"count\"))\n",
    "counted_reviews = counted_reviews.fillna(0)"
   ]
  },
  {
   "cell_type": "code",
   "execution_count": 22,
   "metadata": {},
   "outputs": [
    {
     "name": "stdout",
     "output_type": "stream",
     "text": [
      "+-------+---+---+\n",
      "| App ID|pos|neg|\n",
      "+-------+---+---+\n",
      "|1272080| 15| 15|\n",
      "|1716740| 17| 10|\n",
      "|1085660| 17| 20|\n",
      "|1599340| 15| 14|\n",
      "|1627720| 17|  9|\n",
      "|1971870| 18| 16|\n",
      "|    730| 14| 15|\n",
      "|1172470| 18| 16|\n",
      "|1086940| 19| 15|\n",
      "+-------+---+---+\n",
      "\n"
     ]
    }
   ],
   "source": [
    "counted_reviews.show()"
   ]
  },
  {
   "cell_type": "code",
   "execution_count": null,
   "metadata": {},
   "outputs": [],
   "source": []
  },
  {
   "cell_type": "code",
   "execution_count": null,
   "metadata": {},
   "outputs": [],
   "source": []
  },
  {
   "cell_type": "code",
   "execution_count": 23,
   "metadata": {},
   "outputs": [],
   "source": [
    "csv_file = [f for f in reviews_path if f.endswith('.csv')]"
   ]
  },
  {
   "cell_type": "code",
   "execution_count": 24,
   "metadata": {},
   "outputs": [
    {
     "data": {
      "text/plain": [
       "'../data/weekly_data/reviews/'"
      ]
     },
     "execution_count": 24,
     "metadata": {},
     "output_type": "execute_result"
    }
   ],
   "source": [
    "reviews_path"
   ]
  },
  {
   "cell_type": "code",
   "execution_count": null,
   "metadata": {},
   "outputs": [],
   "source": []
  },
  {
   "cell_type": "code",
   "execution_count": null,
   "metadata": {},
   "outputs": [],
   "source": []
  },
  {
   "cell_type": "code",
   "execution_count": 25,
   "metadata": {},
   "outputs": [
    {
     "name": "stdout",
     "output_type": "stream",
     "text": [
      "+----+--------------------+------------+------+---------------+\n",
      "|Rank|           Game Name|Free to Play|App ID|Collection Date|\n",
      "+----+--------------------+------------+------+---------------+\n",
      "|   1|CounterStrike Glo...|           1|  null|           null|\n",
      "|   2|          Steam Deck|           0|  null|           null|\n",
      "|   3|           Starfield|           0|  null|           null|\n",
      "|   4|      Baldurs Gate 3|           0|  null|           null|\n",
      "|   5|     Mortal Kombat 1|           0|  null|           null|\n",
      "|   6|            PAYDAY 3|           0|  null|           null|\n",
      "|   7|            Lost Ark|           1|  null|           null|\n",
      "|   8|           Lies of P|           0|  null|           null|\n",
      "|   9|           Destiny 2|           1|  null|           null|\n",
      "|  10|        Apex Legends|           1|  null|           null|\n",
      "|  11|      Cyberpunk 2077|           0|  null|           null|\n",
      "|  12|        Call of Duty|           0|  null|           null|\n",
      "|  13|Cyberpunk 2077 Ph...|           0|  null|           null|\n",
      "|  14|Call of Duty Blac...|           0|  null|           null|\n",
      "|  15|Tom Clancys Rainb...|           0|  null|           null|\n",
      "|  16|ARMORED CORE VI F...|           0|  null|           null|\n",
      "|  17|       Madden NFL 24|           0|  null|           null|\n",
      "|  18|         War Thunder|           1|  null|           null|\n",
      "|  19|     Resident Evil 4|           0|  null|           null|\n",
      "|  20|                Rust|           0|  null|           null|\n",
      "+----+--------------------+------------+------+---------------+\n",
      "only showing top 20 rows\n",
      "\n"
     ]
    }
   ],
   "source": [
    "#Top_sellers\n",
    "schema_top_sellers = StructType([\n",
    "    StructField(\"Rank\", IntegerType(), True),\n",
    "    StructField(\"Game Name\", StringType(), True),\n",
    "    StructField(\"Free to Play\", IntegerType(), True),\n",
    "    StructField(\"App ID\", IntegerType(), True),\n",
    "    StructField(\"Collection Date\", StringType(), True)\n",
    "    ])\n",
    "\n",
    "WEEKLY_TOP_SELLERS_PATH = WEEKLY_DATA_PATH + r'top_sellers/'\n",
    "files = os.listdir(WEEKLY_TOP_SELLERS_PATH)\n",
    "\n",
    "FILE_DATE = None\n",
    "try:\n",
    "    csv_file = [f for f in files if f.endswith('.csv')]\n",
    "    file = csv_file[0]\n",
    "    FILE_DATE = file.split('.')[0].split('_')[0]\n",
    "    top_sellers = spark.read.csv(\n",
    "        WEEKLY_TOP_SELLERS_PATH + file,\n",
    "        header=True,\n",
    "        schema=schema_top_sellers  \n",
    "    )\n",
    "    top_sellers.cache()\n",
    "    top_sellers.show()\n",
    "except Exception as e:\n",
    "    print(\"An error occurred while reading the CSV file:\", e)"
   ]
  },
  {
   "cell_type": "code",
   "execution_count": 26,
   "metadata": {},
   "outputs": [],
   "source": [
    "#news\n",
    "weekly_top_news_schema = StructType([\n",
    "    StructField(\"appnews\", StructType([\n",
    "        StructField(\"appid\", IntegerType(), nullable=False),\n",
    "        StructField(\"newsitems\", ArrayType(StructType([\n",
    "            StructField(\"gid\", StringType(), nullable=False),\n",
    "            StructField(\"title\", StringType(), nullable=False),\n",
    "            StructField(\"url\", StringType(), nullable=False),\n",
    "            StructField(\"is_external_url\", BooleanType(), nullable=False),\n",
    "            StructField(\"author\", StringType(), nullable=False),\n",
    "            StructField(\"contents\", StringType(), nullable=False),\n",
    "            StructField(\"feedlabel\", StringType(), nullable=False),\n",
    "            StructField(\"date\", IntegerType(), nullable=False),\n",
    "            StructField(\"feedname\", StringType(), nullable=False),\n",
    "            StructField(\"feed_type\", IntegerType(), nullable=False),\n",
    "            StructField(\"appid\", IntegerType(), nullable=False),\n",
    "            StructField(\"tags\", ArrayType(StringType(), containsNull=False), nullable=True)\n",
    "        ]), containsNull=True), nullable=False),\n",
    "        StructField(\"count\", IntegerType(), nullable=False)\n",
    "    ]), nullable=True)\n",
    "])\n",
    "\n",
    "merged_df = None\n",
    "WEEKLY_TOP_NEWS_PATH = WEEKLY_DATA_PATH + r'news/'\n",
    "files = os.listdir(WEEKLY_TOP_NEWS_PATH)\n",
    "try:\n",
    "    json_files = [pos_json for pos_json in files if pos_json.endswith('.json')]\n",
    "    for file in json_files:\n",
    "        steam_game_news = spark.read.json(\n",
    "            WEEKLY_TOP_NEWS_PATH + file,\n",
    "            multiLine=True,\n",
    "            schema = weekly_top_news_schema     \n",
    "        )\n",
    "        if merged_df is None:\n",
    "            merged_df = steam_game_news\n",
    "        else:\n",
    "            merged_df = merged_df.union(steam_game_news)\n",
    "except:\n",
    "    print('No json files found')\n"
   ]
  },
  {
   "cell_type": "code",
   "execution_count": 27,
   "metadata": {},
   "outputs": [
    {
     "name": "stdout",
     "output_type": "stream",
     "text": [
      "+--------------------+\n",
      "|             appnews|\n",
      "+--------------------+\n",
      "|{730, [{521916535...|\n",
      "|{1675200, [{52191...|\n",
      "|{1716740, [{52191...|\n",
      "|{1086940, [{52191...|\n",
      "|{1971870, [{52191...|\n",
      "+--------------------+\n",
      "only showing top 5 rows\n",
      "\n"
     ]
    }
   ],
   "source": [
    "merged_df.show(5)"
   ]
  },
  {
   "cell_type": "code",
   "execution_count": 28,
   "metadata": {},
   "outputs": [
    {
     "name": "stdout",
     "output_type": "stream",
     "text": [
      "+--------------------+\n",
      "|             appnews|\n",
      "+--------------------+\n",
      "|{1172470, [{54803...|\n",
      "+--------------------+\n",
      "\n"
     ]
    }
   ],
   "source": [
    "steam_game_news.show()"
   ]
  },
  {
   "cell_type": "code",
   "execution_count": 29,
   "metadata": {},
   "outputs": [],
   "source": [
    "#reviews\n",
    "WEEKLY_TOP_10_REVIEWS_PATH = WEEKLY_DATA_PATH + r'reviews/'\n",
    "files = os.listdir(WEEKLY_DATA_PATH)\n",
    "try:\n",
    "    csv_file = [f for f in files if f.endswith('.txt')]\n",
    "    for file in csv_file:\n",
    "        reviews = spark.read.text(\n",
    "            WEEKLY_TOP_10_REVIEWS_PATH + file,\n",
    "        )\n",
    "        reviews.cache()\n",
    "        reviews.show()\n",
    "        break\n",
    "except Exception as e:\n",
    "    print(\"An error occurred while reading the CSV file:\", e)"
   ]
  }
 ],
 "metadata": {
  "kernelspec": {
   "display_name": "Python 3",
   "language": "python",
   "name": "python3"
  },
  "language_info": {
   "codemirror_mode": {
    "name": "ipython",
    "version": 3
   },
   "file_extension": ".py",
   "mimetype": "text/x-python",
   "name": "python",
   "nbconvert_exporter": "python",
   "pygments_lexer": "ipython3",
   "version": "3.9.13"
  },
  "orig_nbformat": 4
 },
 "nbformat": 4,
 "nbformat_minor": 2
}
