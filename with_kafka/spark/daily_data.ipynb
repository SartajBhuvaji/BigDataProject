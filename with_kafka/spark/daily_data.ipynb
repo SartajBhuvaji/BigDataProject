{
 "cells": [
  {
   "cell_type": "code",
   "execution_count": 1,
   "metadata": {},
   "outputs": [
    {
     "data": {
      "text/html": [
       "\n",
       "            <div>\n",
       "                <p><b>SparkSession - in-memory</b></p>\n",
       "                \n",
       "        <div>\n",
       "            <p><b>SparkContext</b></p>\n",
       "\n",
       "            <p><a href=\"http://host.docker.internal:4040\">Spark UI</a></p>\n",
       "\n",
       "            <dl>\n",
       "              <dt>Version</dt>\n",
       "                <dd><code>v3.3.2</code></dd>\n",
       "              <dt>Master</dt>\n",
       "                <dd><code>local[*]</code></dd>\n",
       "              <dt>AppName</dt>\n",
       "                <dd><code>TestSession</code></dd>\n",
       "            </dl>\n",
       "        </div>\n",
       "        \n",
       "            </div>\n",
       "        "
      ],
      "text/plain": [
       "<pyspark.sql.session.SparkSession at 0x266e2ee5730>"
      ]
     },
     "execution_count": 1,
     "metadata": {},
     "output_type": "execute_result"
    }
   ],
   "source": [
    "from pyspark.sql import SparkSession\n",
    "import os\n",
    "spark = SparkSession.builder.appName('TestSession').getOrCreate()\n",
    "spark"
   ]
  },
  {
   "cell_type": "code",
   "execution_count": 2,
   "metadata": {},
   "outputs": [],
   "source": [
    "from pyspark.sql.types import StructType, StructField, StringType, DateType, IntegerType\n",
    "\n",
    "schema = StructType([\n",
    "    StructField(\"Rank\", IntegerType(), True),\n",
    "    StructField(\"Game Name\", StringType(), True),\n",
    "    StructField(\"Free to Play\", IntegerType(), True),\n",
    "    StructField(\"Current Players\", IntegerType(), True),\n",
    "    StructField(\"Peek Today\", IntegerType(), True),\n",
    "    StructField(\"Collection Date\", DateType(), True)\n",
    "])"
   ]
  },
  {
   "cell_type": "code",
   "execution_count": 3,
   "metadata": {},
   "outputs": [
    {
     "name": "stdout",
     "output_type": "stream",
     "text": [
      "+----+---------+------------+---------------+----------+---------------+\n",
      "|Rank|Game Name|Free to Play|Current Players|Peek Today|Collection Date|\n",
      "+----+---------+------------+---------------+----------+---------------+\n",
      "|null|     null|        null|           null|      null|           null|\n",
      "+----+---------+------------+---------------+----------+---------------+\n",
      "\n"
     ]
    }
   ],
   "source": [
    "DAILY_DATA_PATH = r'../data/daily_data/most_played/' \n",
    "files = os.listdir(DAILY_DATA_PATH)\n",
    "\n",
    "FILE_DATE = None\n",
    "try:\n",
    "    csv_file = [f for f in files if f.endswith('.csv')]\n",
    "    file = csv_file[0]\n",
    "    most_daily_played = spark.read.csv(DAILY_DATA_PATH + file, header=True, schema=schema)\n",
    "except Exception as e:\n",
    "    print(\"An error occurred while reading the JSON file:\", e)\n",
    "\n",
    "most_daily_played.cache()\n",
    "most_daily_played.show()    \n"
   ]
  },
  {
   "cell_type": "code",
   "execution_count": 6,
   "metadata": {},
   "outputs": [
    {
     "data": {
      "text/plain": [
       "'2023-08-06_MostPlayed_Consumed.csv'"
      ]
     },
     "execution_count": 6,
     "metadata": {},
     "output_type": "execute_result"
    }
   ],
   "source": [
    "file"
   ]
  },
  {
   "cell_type": "code",
   "execution_count": null,
   "metadata": {},
   "outputs": [],
   "source": []
  }
 ],
 "metadata": {
  "kernelspec": {
   "display_name": "Python 3",
   "language": "python",
   "name": "python3"
  },
  "language_info": {
   "codemirror_mode": {
    "name": "ipython",
    "version": 3
   },
   "file_extension": ".py",
   "mimetype": "text/x-python",
   "name": "python",
   "nbconvert_exporter": "python",
   "pygments_lexer": "ipython3",
   "version": "3.9.13"
  },
  "orig_nbformat": 4
 },
 "nbformat": 4,
 "nbformat_minor": 2
}
